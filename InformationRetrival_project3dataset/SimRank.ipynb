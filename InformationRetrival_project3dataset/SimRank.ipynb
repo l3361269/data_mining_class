{
 "cells": [
  {
   "cell_type": "code",
   "execution_count": 1,
   "metadata": {},
   "outputs": [],
   "source": [
    "import networkx as nx\n",
    "import copy\n",
    "import numpy as np\n",
    "import math"
   ]
  },
  {
   "cell_type": "markdown",
   "metadata": {},
   "source": [
    "### SimRank implementation"
   ]
  },
  {
   "cell_type": "code",
   "execution_count": 2,
   "metadata": {},
   "outputs": [],
   "source": [
    "class SimRank():\n",
    "    \"\"\"\n",
    "    Similairy between pages\n",
    "    \"\"\"\n",
    "    def __init__(self,graph,max_iter=5,C=0.6):\n",
    "        \"\"\"\n",
    "        initialization: input directed graph to calculate similarity between pages\n",
    "        \"\"\"\n",
    "        self.graph=graph\n",
    "        self.max_iter=max_iter # calcuclating SimRank 5 runs\n",
    "        self.C=C # decay factor\n",
    "        self.nodes=list(graph.nodes)\n",
    "        self.S_index={} # storing indices of each node(web)\n",
    "\n",
    "    def similarity(self):\n",
    "        \"\"\"\n",
    "        main calculate function\n",
    "        \"\"\"\n",
    "        for i,v in enumerate(self.nodes):\n",
    "            self.S_index[v]=i\n",
    "        \n",
    "        # S: matrix of similairy between pages\n",
    "        # initial S: diagnal matrix, all values are `1` in diagnal\n",
    "        S=np.zeros((len(self.nodes),len(self.nodes)))\n",
    "        for v1 in self.nodes:\n",
    "            for v2 in self.nodes:\n",
    "                if v1==v2:\n",
    "                    S[self.S_index[v1]][self.S_index[v2]]=1\n",
    "        # rapeatedly calculating SimRank\n",
    "        for i in range(self.max_iter):\n",
    "            for v1_i in range(len(self.nodes)):\n",
    "                for v2_i in range(len(self.nodes)):\n",
    "                    v1=self.nodes[v1_i]\n",
    "                    v2=self.nodes[v2_i]\n",
    "                    if v1==v2:\n",
    "                        continue\n",
    "                    # updating matrix S\n",
    "                    s=0\n",
    "                    if len(list(self.graph.predecessors(v1)))*len(list(self.graph.predecessors(v2)))==0:\n",
    "                        continue\n",
    "                    for in_1 in list(self.graph.predecessors(v1)):\n",
    "                        for in_2 in list(self.graph.predecessors(v2)):\n",
    "                            s+=S[self.S_index[in_1]][self.S_index[in_2]]\n",
    "                    S[v1_i][v2_i]=self.C/(len(list(self.graph.predecessors(v1)))*len(list(self.graph.predecessors(v2))))*(s)\n",
    "        return S"
   ]
  },
  {
   "cell_type": "code",
   "execution_count": 3,
   "metadata": {
    "scrolled": true
   },
   "outputs": [
    {
     "name": "stdout",
     "output_type": "stream",
     "text": [
      "\n",
      "========graph_1=========\n",
      "Computation time: 0.0006852149963378906\n"
     ]
    },
    {
     "data": {
      "text/plain": [
       "<Figure size 640x480 with 2 Axes>"
      ]
     },
     "metadata": {},
     "output_type": "display_data"
    },
    {
     "name": "stdout",
     "output_type": "stream",
     "text": [
      "similarity values:\n",
      " [[1. 0. 0. 0. 0. 0.]\n",
      " [0. 1. 0. 0. 0. 0.]\n",
      " [0. 0. 1. 0. 0. 0.]\n",
      " [0. 0. 0. 1. 0. 0.]\n",
      " [0. 0. 0. 0. 1. 0.]\n",
      " [0. 0. 0. 0. 0. 1.]]\n",
      "\n",
      "========graph_2=========\n",
      "Computation time: 0.0007083415985107422\n"
     ]
    },
    {
     "data": {
      "text/plain": [
       "<Figure size 640x480 with 2 Axes>"
      ]
     },
     "metadata": {},
     "output_type": "display_data"
    },
    {
     "name": "stdout",
     "output_type": "stream",
     "text": [
      "similarity values:\n",
      " [[1. 0. 0. 0. 0.]\n",
      " [0. 1. 0. 0. 0.]\n",
      " [0. 0. 1. 0. 0.]\n",
      " [0. 0. 0. 1. 0.]\n",
      " [0. 0. 0. 0. 1.]]\n",
      "\n",
      "========graph_3=========\n",
      "Computation time: 0.0004398822784423828\n"
     ]
    },
    {
     "data": {
      "text/plain": [
       "<Figure size 640x480 with 2 Axes>"
      ]
     },
     "metadata": {},
     "output_type": "display_data"
    },
    {
     "name": "stdout",
     "output_type": "stream",
     "text": [
      "similarity values:\n",
      " [[1.         0.         0.42856299 0.        ]\n",
      " [0.         1.         0.         0.4285689 ]\n",
      " [0.42856299 0.         1.         0.        ]\n",
      " [0.         0.4285689  0.         1.        ]]\n",
      "\n",
      "========graph_4=========\n",
      "Computation time: 0.004568338394165039\n"
     ]
    },
    {
     "data": {
      "text/plain": [
       "<Figure size 640x480 with 2 Axes>"
      ]
     },
     "metadata": {},
     "output_type": "display_data"
    },
    {
     "name": "stdout",
     "output_type": "stream",
     "text": [
      "similarity values:\n",
      " [[1.         0.16486821 0.15631149 0.16406895 0.14639402 0.10318639\n",
      "  0.22495151]\n",
      " [0.16502177 1.         0.21592979 0.18156624 0.21361825 0.26343906\n",
      "  0.09969343]\n",
      " [0.15662277 0.21614645 1.         0.2610884  0.19782538 0.26166648\n",
      "  0.26051032]\n",
      " [0.16450691 0.18196972 0.2612983  1.         0.15813712 0.34369082\n",
      "  0.34391821]\n",
      " [0.14711578 0.2140803  0.19810827 0.15835799 1.         0.22377732\n",
      "  0.09293867]\n",
      " [0.10387878 0.26407609 0.26209259 0.34391821 0.22383103 1.\n",
      "  0.08783641]\n",
      " [0.22576908 0.10071641 0.26109475 0.34413473 0.09332846 0.08826947\n",
      "  1.        ]]\n",
      "\n",
      "========graph_5=========\n",
      "Computation time: 7.479926824569702\n"
     ]
    },
    {
     "data": {
      "text/plain": [
       "<Figure size 640x480 with 2 Axes>"
      ]
     },
     "metadata": {},
     "output_type": "display_data"
    },
    {
     "name": "stdout",
     "output_type": "stream",
     "text": [
      "similarity values:\n",
      " [[1.  0.  0.  ... 0.  0.  0. ]\n",
      " [0.  1.  0.6 ... 0.  0.  0. ]\n",
      " [0.  0.6 1.  ... 0.  0.  0. ]\n",
      " ...\n",
      " [0.  0.  0.  ... 1.  0.6 0.6]\n",
      " [0.  0.  0.  ... 0.6 1.  0.6]\n",
      " [0.  0.  0.  ... 0.6 0.6 1. ]]\n"
     ]
    }
   ],
   "source": [
    "# import hw3 data and print out their authority and hub values\n",
    "import matplotlib.pyplot as plt\n",
    "import seaborn as sns\n",
    "import time\n",
    "compu_time=[]\n",
    "nodes=[]\n",
    "\n",
    "for i in range(1,6):\n",
    "    t=time.time()\n",
    "    edges=[]\n",
    "    with open('hw3dataset/graph_{}.txt'.format(i),'r') as f:\n",
    "        print('\\n========graph_{}========='.format(i))\n",
    "        for l in f.readlines():\n",
    "            edges.append(tuple(l.strip().split(',')))\n",
    "        G=nx.DiGraph()\n",
    "        G.add_edges_from(edges)\n",
    "        s=SimRank(G).similarity()\n",
    "        compu_time.append(time.time()-t)\n",
    "        print('Computation time:',compu_time[-1])\n",
    "        nodes.append(len(list(G.nodes)))\n",
    "        sns.heatmap(s)\n",
    "        plt.show()\n",
    "        print('similarity values:\\n',s)"
   ]
  },
  {
   "cell_type": "markdown",
   "metadata": {},
   "source": [
    "### computation analysis"
   ]
  },
  {
   "cell_type": "code",
   "execution_count": 4,
   "metadata": {},
   "outputs": [
    {
     "name": "stderr",
     "output_type": "stream",
     "text": [
      "/home/yi_chun/anaconda3/envs/ITRI_mat2vec/lib/python3.6/site-packages/seaborn/relational.py:784: MatplotlibDeprecationWarning: Saw kwargs ['c', 'color'] which are all aliases for 'color'.  Kept value from 'color'.  Passing multiple aliases for the same property will raise a TypeError in 3.3.\n",
      "  line, = ax.plot([], [], **kws)\n",
      "/home/yi_chun/anaconda3/envs/ITRI_mat2vec/lib/python3.6/site-packages/seaborn/relational.py:795: MatplotlibDeprecationWarning: Saw kwargs ['c', 'color'] which are all aliases for 'color'.  Kept value from 'color'.  Passing multiple aliases for the same property will raise a TypeError in 3.3.\n",
      "  line, = ax.plot(x, y, **kws)\n"
     ]
    },
    {
     "data": {
      "image/png": "[encoded data removed]",
      "text/plain": [
       "<Figure size 720x432 with 1 Axes>"
      ]
     },
     "metadata": {
      "needs_background": "light"
     },
     "output_type": "display_data"
    }
   ],
   "source": [
    "plt.figure(figsize=(10,6))\n",
    "sns.barplot(np.arange(len(compu_time)),compu_time,label='SimRank')\n",
    "sns.lineplot(np.arange(len(compu_time)),np.array(nodes)*0.02,lw=0.5,c='b',alpha=0.8,label='number of nodes')\n",
    "plt.title('computation time vs. number of nodes')\n",
    "plt.xticks(np.arange(len(compu_time)),('graph_1','graph_2','graph_3','graph_4','graph_5')\n",
    "                                       ,fontsize=12,rotation=45)\n",
    "plt.show()"
   ]
  },
  {
   "cell_type": "code",
   "execution_count": null,
   "metadata": {},
   "outputs": [],
   "source": []
  }
 ],
 "metadata": {
  "kernelspec": {
   "display_name": "Python 3",
   "language": "python",
   "name": "python3"
  },
  "language_info": {
   "codemirror_mode": {
    "name": "ipython",
    "version": 3
   },
   "file_extension": ".py",
   "mimetype": "text/x-python",
   "name": "python",
   "nbconvert_exporter": "python",
   "pygments_lexer": "ipython3",
   "version": "3.6.9"
  }
 },
 "nbformat": 4,
 "nbformat_minor": 2
}
