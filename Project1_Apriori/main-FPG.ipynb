{
 "cells": [
  {
   "cell_type": "code",
   "execution_count": 1,
   "metadata": {},
   "outputs": [],
   "source": [
    "from FPG import treeNode,createTree,updateTree,updateHeadertable,ascend_along_tree,findPrefixPath,miningTree\n",
    "import matplotlib.pyplot as plt\n",
    "import seaborn as sns"
   ]
  },
  {
   "cell_type": "markdown",
   "metadata": {},
   "source": [
    "## Running on IBM datasets"
   ]
  },
  {
   "cell_type": "code",
   "execution_count": 2,
   "metadata": {},
   "outputs": [],
   "source": [
    "import pandas as pd\n",
    "IBM_item=[]\n",
    "ibm=pd.DataFrame({'transaction_id':[],'item_id':[]})\n",
    "with open('./IBM-Quest-Data-Generator.exe/output.csv','r') as f:\n",
    "    for line in f.readlines():\n",
    "        IBM_item.append(line.strip().split()[2])\n",
    "        ibm=ibm.append({'transaction_id':line.strip().split()[1],'item_id':line.strip().split()[2]},ignore_index=True)\n",
    "\n",
    "ti_=ibm.groupby(ibm.transaction_id)\n",
    "IBM_transDB={}\n",
    "for i in ti_:\n",
    "    if frozenset(list(i[1]['item_id'])) in IBM_transDB:\n",
    "        IBM_transDB[frozenset(list(i[1]['item_id']))]+=1\n",
    "    else:\n",
    "        IBM_transDB[frozenset(list(i[1]['item_id']))]=1"
   ]
  },
  {
   "cell_type": "code",
   "execution_count": 3,
   "metadata": {},
   "outputs": [
    {
     "name": "stdout",
     "output_type": "stream",
     "text": [
      "0 0.026829242706298828\n",
      "1 0.008389949798583984\n",
      "2 0.005455970764160156\n",
      "3 0.001932382583618164\n"
     ]
    }
   ],
   "source": [
    "minsup=[0.02,0.05,0.1,0.2]\n",
    "import time\n",
    "IfreqItems=[[],[],[],[]]\n",
    "Itime=[]\n",
    "for s in range(len(minsup)):\n",
    "    t=time.time()\n",
    "    FPtree,HeadTab=createTree(IBM_transDB,int(minsup[s]*828))\n",
    "    miningTree(FPtree,HeadTab,int(minsup[s]*828),set([]),IfreqItems[s])\n",
    "    print(s,time.time()-t)\n",
    "    Itime.append(time.time()-t)"
   ]
  },
  {
   "cell_type": "code",
   "execution_count": 4,
   "metadata": {},
   "outputs": [
    {
     "name": "stdout",
     "output_type": "stream",
     "text": [
      "====min support:  0.02 ====\n",
      "size of all frequent itemsets:  580\n",
      "====min support:  0.05 ====\n",
      "size of all frequent itemsets:  169\n",
      "====min support:  0.1 ====\n",
      "size of all frequent itemsets:  112\n",
      "====min support:  0.2 ====\n",
      "size of all frequent itemsets:  65\n"
     ]
    }
   ],
   "source": [
    "for i in range(len(minsup)):\n",
    "    print('====min support: ',minsup[i],'====')\n",
    "    print('size of all frequent itemsets: ',len(IfreqItems[i]))"
   ]
  },
  {
   "cell_type": "code",
   "execution_count": 5,
   "metadata": {},
   "outputs": [
    {
     "data": {
      "image/png": "[encoded data removed]",
      "text/plain": [
       "<Figure size 432x288 with 1 Axes>"
      ]
     },
     "metadata": {
      "needs_background": "light"
     },
     "output_type": "display_data"
    }
   ],
   "source": [
    "I_time={'minsup':minsup,'time':Itime}\n",
    "\n",
    "sns.barplot()\n",
    "plt.ylim(0,0.025)\n",
    "sns.barplot(x='minsup',y='time',data=I_time)\n",
    "plt.xlabel('min support')\n",
    "plt.ylabel('running time')\n",
    "plt.show()"
   ]
  },
  {
   "cell_type": "markdown",
   "metadata": {},
   "source": [
    "## Running on kaggle datasets"
   ]
  },
  {
   "cell_type": "code",
   "execution_count": 6,
   "metadata": {},
   "outputs": [],
   "source": [
    "kg=pd.read_csv('./supermarket/GroceryStoreDataSet.csv',header=None,names=['trans'])\n",
    "KG_transDB={}\n",
    "for line in kg.trans:\n",
    "    if frozenset(line.split(',')) in KG_transDB:\n",
    "        KG_transDB[frozenset(line.split(','))]+=1\n",
    "    else:\n",
    "        KG_transDB[frozenset(line.split(','))]=1"
   ]
  },
  {
   "cell_type": "code",
   "execution_count": 7,
   "metadata": {},
   "outputs": [
    {
     "name": "stdout",
     "output_type": "stream",
     "text": [
      "0 0.0031027793884277344\n",
      "1 0.001976490020751953\n",
      "2 0.0012912750244140625\n"
     ]
    }
   ],
   "source": [
    "min_sup=[0.05,0.1,0.2]\n",
    "\n",
    "KfreqItems=[[],[],[],[]]\n",
    "Ktime=[]\n",
    "for s in range(len(min_sup)):\n",
    "    t=time.time()\n",
    "    FPtree,HeadTab=createTree(KG_transDB,int(min_sup[s]*20))\n",
    "    miningTree(FPtree,HeadTab,int(min_sup[s]*20),set([]),KfreqItems[s])\n",
    "    print(s,time.time()-t)\n",
    "    Ktime.append(time.time()-t)"
   ]
  },
  {
   "cell_type": "code",
   "execution_count": 8,
   "metadata": {},
   "outputs": [
    {
     "name": "stdout",
     "output_type": "stream",
     "text": [
      "====min support:  0.05 ====\n",
      "size of all frequent itemsets:  83\n",
      "====min support:  0.1 ====\n",
      "size of all frequent itemsets:  46\n",
      "====min support:  0.2 ====\n",
      "size of all frequent itemsets:  16\n"
     ]
    }
   ],
   "source": [
    "for i in range(len(min_sup)):\n",
    "    print('====min support: ',min_sup[i],'====')\n",
    "    print('size of all frequent itemsets: ',len(KfreqItems[i]))"
   ]
  },
  {
   "cell_type": "code",
   "execution_count": 9,
   "metadata": {},
   "outputs": [
    {
     "data": {
      "text/plain": [
       "Text(0, 0.5, 'running time')"
      ]
     },
     "execution_count": 9,
     "metadata": {},
     "output_type": "execute_result"
    },
    {
     "data": {
      "image/png": "[encoded data removed]",
      "text/plain": [
       "<Figure size 432x288 with 1 Axes>"
      ]
     },
     "metadata": {
      "needs_background": "light"
     },
     "output_type": "display_data"
    }
   ],
   "source": [
    "K_time={'minsup':min_sup,'time':Ktime}\n",
    "K_time\n",
    "\n",
    "sns.barplot()\n",
    "plt.ylim(0,0.003)\n",
    "sns.barplot(x='minsup',y='time',data=K_time)\n",
    "plt.xlabel('min support')\n",
    "plt.ylabel('running time')"
   ]
  }
 ],
 "metadata": {
  "kernelspec": {
   "display_name": "Python 3",
   "language": "python",
   "name": "python3"
  },
  "language_info": {
   "codemirror_mode": {
    "name": "ipython",
    "version": 3
   },
   "file_extension": ".py",
   "mimetype": "text/x-python",
   "name": "python",
   "nbconvert_exporter": "python",
   "pygments_lexer": "ipython3",
   "version": "3.7.3"
  }
 },
 "nbformat": 4,
 "nbformat_minor": 2
}
